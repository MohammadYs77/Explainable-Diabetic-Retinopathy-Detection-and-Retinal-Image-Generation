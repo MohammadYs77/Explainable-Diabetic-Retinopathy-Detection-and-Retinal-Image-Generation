{
 "cells": [
  {
   "cell_type": "code",
   "execution_count": 1,
   "id": "e5c078a3-d357-4c01-a5a0-9cf55dda2eac",
   "metadata": {},
   "outputs": [],
   "source": [
    "import pandas as pd"
   ]
  },
  {
   "cell_type": "code",
   "execution_count": 2,
   "id": "9844d5ed-689d-4e0c-80ab-5caedafc29fb",
   "metadata": {},
   "outputs": [],
   "source": [
    "base_path = 'pvqa/'\n",
    "\n",
    "pvqa_dic_path = base_path + 'pvqa_dictionary.pkl'\n",
    "test_img_id2idx_path = base_path + 'test_img_id2idx.pkl'\n",
    "train_img_id2idx_path = base_path + 'train_img_id2idx.pkl'\n",
    "val_img_id2idx_path = base_path + 'val_img_id2idx.pkl'\n",
    "\n",
    "pvqa_dic_pkl = pd.read_pickle(pvqa_dic_path)\n",
    "test_img_id2idx_pkl = pd.read_pickle(test_img_id2idx_path)\n",
    "train_img_id2idx_pkl = pd.read_pickle(train_img_id2idx_path)\n",
    "val_img_id2idx_pkl = pd.read_pickle(val_img_id2idx_path)"
   ]
  },
  {
   "cell_type": "code",
   "execution_count": 39,
   "id": "ac6fd31c-2206-4c74-b544-a806a1df75bb",
   "metadata": {},
   "outputs": [],
   "source": [
    "qas_base_path = base_path + 'qas/'\n",
    "\n",
    "q2a_path = qas_base_path + 'q2a.pkl'\n",
    "qid2a_path = qas_base_path + 'qid2a.pkl'\n",
    "qid2q_path = qas_base_path + 'qid2q.pkl'\n",
    "test_vqa_path = qas_base_path + 'test_vqa.pkl'\n",
    "train_vqa_path = qas_base_path + 'train_vqa.pkl'\n",
    "val_vqa_path = qas_base_path + 'val_vqa.pkl'\n",
    "train_qa_path = qas_base_path + 'train/train_qa.pkl'\n",
    "\n",
    "q2a_pairs = pd.read_pickle(q2a_path)\n",
    "qid2a_pairs = pd.read_pickle(qid2a_path)\n",
    "qid2q_pairs = pd.read_pickle(qid2q_path)\n",
    "test_vqa_pairs = pd.read_pickle(test_vqa_path)\n",
    "train_vqa_pairs = pd.read_pickle(train_vqa_path)\n",
    "train_qa_pairs = pd.read_pickle(train_qa_path)\n",
    "val_vqa_pairs = pd.read_pickle(val_vqa_path)"
   ]
  },
  {
   "cell_type": "code",
   "execution_count": 31,
   "id": "cc6b00c8-814c-4057-9c6d-60f722999901",
   "metadata": {},
   "outputs": [],
   "source": [
    "train_vqa_df = pd.DataFrame(train_vqa_pairs)\n",
    "val_vqa_df = pd.DataFrame(val_vqa_pairs)\n",
    "test_vqa_df = pd.DataFrame(test_vqa_pairs)"
   ]
  },
  {
   "cell_type": "code",
   "execution_count": 36,
   "id": "c71ae505-fac0-4c7b-a22e-b83b2bb84da9",
   "metadata": {},
   "outputs": [
    {
     "name": "stdout",
     "output_type": "stream",
     "text": [
      "<class 'pandas.core.frame.DataFrame'>\n",
      "RangeIndex: 6761 entries, 0 to 6760\n",
      "Data columns (total 6 columns):\n",
      " #   Column         Non-Null Count  Dtype \n",
      "---  ------         --------------  ----- \n",
      " 0   answer_type    6761 non-null   object\n",
      " 1   img_id         6761 non-null   object\n",
      " 2   label          6761 non-null   object\n",
      " 3   question_id    6761 non-null   int64 \n",
      " 4   question_type  6761 non-null   object\n",
      " 5   sent           6761 non-null   object\n",
      "dtypes: int64(1), object(5)\n",
      "memory usage: 317.0+ KB\n"
     ]
    }
   ],
   "source": [
    "test_vqa_df.info()"
   ]
  },
  {
   "cell_type": "code",
   "execution_count": 38,
   "id": "d6a5c0ec-3a10-4a14-a1ee-0ab081cba586",
   "metadata": {},
   "outputs": [
    {
     "name": "stdout",
     "output_type": "stream",
     "text": [
      "<class 'pandas.core.frame.DataFrame'>\n",
      "RangeIndex: 6279 entries, 0 to 6278\n",
      "Data columns (total 6 columns):\n",
      " #   Column         Non-Null Count  Dtype \n",
      "---  ------         --------------  ----- \n",
      " 0   answer_type    6279 non-null   object\n",
      " 1   img_id         6279 non-null   object\n",
      " 2   label          6279 non-null   object\n",
      " 3   question_id    6279 non-null   int64 \n",
      " 4   question_type  6279 non-null   object\n",
      " 5   sent           6279 non-null   object\n",
      "dtypes: int64(1), object(5)\n",
      "memory usage: 294.5+ KB\n"
     ]
    }
   ],
   "source": [
    "val_vqa_df.info()"
   ]
  },
  {
   "cell_type": "code",
   "execution_count": 37,
   "id": "6c32a5ad-e59f-4be1-a04a-e67449092468",
   "metadata": {},
   "outputs": [
    {
     "name": "stdout",
     "output_type": "stream",
     "text": [
      "<class 'pandas.core.frame.DataFrame'>\n",
      "RangeIndex: 19755 entries, 0 to 19754\n",
      "Data columns (total 6 columns):\n",
      " #   Column         Non-Null Count  Dtype \n",
      "---  ------         --------------  ----- \n",
      " 0   answer_type    19755 non-null  object\n",
      " 1   img_id         19755 non-null  object\n",
      " 2   label          19755 non-null  object\n",
      " 3   question_id    19755 non-null  int64 \n",
      " 4   question_type  19755 non-null  object\n",
      " 5   sent           19755 non-null  object\n",
      "dtypes: int64(1), object(5)\n",
      "memory usage: 926.1+ KB\n"
     ]
    }
   ],
   "source": [
    "train_vqa_df.info()"
   ]
  },
  {
   "cell_type": "code",
   "execution_count": 26,
   "id": "40223655-1aa3-4697-bf14-aaf4ef587df5",
   "metadata": {},
   "outputs": [
    {
     "data": {
      "text/plain": [
       "[('Where are liver stem cells (oval cells) located?',\n",
       "  'in the canals of hering'),\n",
       " ('What are stained here with an immunohistochemical stain for cytokeratin 7?',\n",
       "  'bile duct cells and canals of hering'),\n",
       " ('What are bile duct cells and canals of Hering stained here with for cytokeratin 7?',\n",
       "  'an immunohistochemical stain'),\n",
       " ('Are bile duct cells and canals of Hering stained here with an immunohistochemical stain for cytokeratin 7?',\n",
       "  'yes'),\n",
       " ('What shows dissolution of the tissue?', 'an infarct in the brain')]"
      ]
     },
     "execution_count": 26,
     "metadata": {},
     "output_type": "execute_result"
    }
   ],
   "source": [
    "list(q2a_pairs.items())[:5] "
   ]
  },
  {
   "cell_type": "code",
   "execution_count": 27,
   "id": "6079cd77-52da-4a83-ab44-49d03c9fd1a5",
   "metadata": {
    "scrolled": true
   },
   "outputs": [
    {
     "data": {
      "text/plain": [
       "[(100422000, 'Where are liver stem cells (oval cells) located?'),\n",
       " (100422001,\n",
       "  'What are stained here with an immunohistochemical stain for cytokeratin 7?'),\n",
       " (100422002,\n",
       "  'What are bile duct cells and canals of Hering stained here with for cytokeratin 7?'),\n",
       " (100422003,\n",
       "  'Are bile duct cells and canals of Hering stained here with an immunohistochemical stain for cytokeratin 7?'),\n",
       " (100986000, 'What shows dissolution of the tissue?')]"
      ]
     },
     "execution_count": 27,
     "metadata": {},
     "output_type": "execute_result"
    }
   ],
   "source": [
    "list(qid2q_pairs.items())[:5]"
   ]
  },
  {
   "cell_type": "code",
   "execution_count": 41,
   "id": "7ca8959f-c36a-4f88-9c32-1a948e63ee4b",
   "metadata": {
    "scrolled": true
   },
   "outputs": [],
   "source": [
    "train_qa_df = pd.DataFrame(train_qa_pairs)"
   ]
  },
  {
   "cell_type": "code",
   "execution_count": 43,
   "id": "5a03ee08-ea86-4cf8-8d4c-e30664a3c92c",
   "metadata": {},
   "outputs": [
    {
     "name": "stdout",
     "output_type": "stream",
     "text": [
      "<class 'pandas.core.frame.DataFrame'>\n",
      "RangeIndex: 19755 entries, 0 to 19754\n",
      "Data columns (total 3 columns):\n",
      " #   Column    Non-Null Count  Dtype \n",
      "---  ------    --------------  ----- \n",
      " 0   image     19755 non-null  object\n",
      " 1   question  19755 non-null  object\n",
      " 2   answer    19755 non-null  object\n",
      "dtypes: object(3)\n",
      "memory usage: 463.1+ KB\n"
     ]
    }
   ],
   "source": [
    "train_qa_df.info()"
   ]
  },
  {
   "cell_type": "code",
   "execution_count": null,
   "id": "7777fda7-10de-4c8a-8867-b70fb6aef5a3",
   "metadata": {},
   "outputs": [],
   "source": []
  }
 ],
 "metadata": {
  "kernelspec": {
   "display_name": "Python 3 (ipykernel)",
   "language": "python",
   "name": "python3"
  },
  "language_info": {
   "codemirror_mode": {
    "name": "ipython",
    "version": 3
   },
   "file_extension": ".py",
   "mimetype": "text/x-python",
   "name": "python",
   "nbconvert_exporter": "python",
   "pygments_lexer": "ipython3",
   "version": "3.9.12"
  }
 },
 "nbformat": 4,
 "nbformat_minor": 5
}
